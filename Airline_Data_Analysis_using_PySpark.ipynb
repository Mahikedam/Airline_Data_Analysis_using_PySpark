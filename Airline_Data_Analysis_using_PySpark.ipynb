{
  "nbformat": 4,
  "nbformat_minor": 0,
  "metadata": {
    "colab": {
      "name": "Mahesh_Assignment(week - 16).ipynb",
      "provenance": [],
      "collapsed_sections": []
    },
    "kernelspec": {
      "name": "python3",
      "display_name": "Python 3"
    },
    "language_info": {
      "name": "python"
    }
  },
  "cells": [
    {
      "cell_type": "markdown",
      "source": [
        "# Airline_data\n",
        "\n",
        "Analyzing Airline and Flights Data using Big Data Platform PySpark\n"
      ],
      "metadata": {
        "id": "nJ9KTH7pqLrK"
      }
    },
    {
      "cell_type": "markdown",
      "source": [
        ""
      ],
      "metadata": {
        "id": "WUNeAseQqLnJ"
      }
    },
    {
      "cell_type": "code",
      "execution_count": 1,
      "metadata": {
        "colab": {
          "base_uri": "https://localhost:8080/"
        },
        "id": "dTSuBdKfm12_",
        "outputId": "78f39e56-90d5-4481-b36a-22dcb31b2430"
      },
      "outputs": [
        {
          "output_type": "stream",
          "name": "stdout",
          "text": [
            "Looking in indexes: https://pypi.org/simple, https://us-python.pkg.dev/colab-wheels/public/simple/\n",
            "Collecting pyspark\n",
            "  Downloading pyspark-3.2.1.tar.gz (281.4 MB)\n",
            "\u001b[K     |████████████████████████████████| 281.4 MB 35 kB/s \n",
            "\u001b[?25hCollecting py4j==0.10.9.3\n",
            "  Downloading py4j-0.10.9.3-py2.py3-none-any.whl (198 kB)\n",
            "\u001b[K     |████████████████████████████████| 198 kB 44.1 MB/s \n",
            "\u001b[?25hBuilding wheels for collected packages: pyspark\n",
            "  Building wheel for pyspark (setup.py) ... \u001b[?25l\u001b[?25hdone\n",
            "  Created wheel for pyspark: filename=pyspark-3.2.1-py2.py3-none-any.whl size=281853642 sha256=214a5f249619d815394d6827150cbf359b96ab707c6db405c1ffd2964301e932\n",
            "  Stored in directory: /root/.cache/pip/wheels/9f/f5/07/7cd8017084dce4e93e84e92efd1e1d5334db05f2e83bcef74f\n",
            "Successfully built pyspark\n",
            "Installing collected packages: py4j, pyspark\n",
            "Successfully installed py4j-0.10.9.3 pyspark-3.2.1\n"
          ]
        }
      ],
      "source": [
        "pip install pyspark"
      ]
    },
    {
      "cell_type": "code",
      "source": [
        "#Initializing PySpark\n",
        "from pyspark import SparkContext, SparkConf\n",
        "from pyspark.sql import SparkSession\n",
        "from pyspark.sql import SQLContext\n",
        "# #Spark Config\n",
        "conf = SparkConf().setAppName(\"sample_app\")\n",
        "sc = SparkContext(conf=conf)\n",
        "spark = SparkSession.builder.appName('Test').getOrCreate()\n",
        "sqlContext = SQLContext(sc)"
      ],
      "metadata": {
        "colab": {
          "base_uri": "https://localhost:8080/"
        },
        "id": "jh492quVoWcV",
        "outputId": "04be5b1c-f3a7-4871-8caa-5d160c3b1aba"
      },
      "execution_count": 2,
      "outputs": [
        {
          "output_type": "stream",
          "name": "stderr",
          "text": [
            "/usr/local/lib/python3.7/dist-packages/pyspark/sql/context.py:79: FutureWarning: Deprecated in 3.0.0. Use SparkSession.builder.getOrCreate() instead.\n",
            "  FutureWarning\n"
          ]
        }
      ]
    },
    {
      "cell_type": "code",
      "source": [
        "sc"
      ],
      "metadata": {
        "id": "X34BPD6toWZS",
        "colab": {
          "base_uri": "https://localhost:8080/",
          "height": 199
        },
        "outputId": "9cec1700-fb26-429d-fc5e-ddbe6e552a37"
      },
      "execution_count": 3,
      "outputs": [
        {
          "output_type": "execute_result",
          "data": {
            "text/plain": [
              "<SparkContext master=local[*] appName=sample_app>"
            ],
            "text/html": [
              "\n",
              "        <div>\n",
              "            <p><b>SparkContext</b></p>\n",
              "\n",
              "            <p><a href=\"http://45b67bb991ba:4040\">Spark UI</a></p>\n",
              "\n",
              "            <dl>\n",
              "              <dt>Version</dt>\n",
              "                <dd><code>v3.2.1</code></dd>\n",
              "              <dt>Master</dt>\n",
              "                <dd><code>local[*]</code></dd>\n",
              "              <dt>AppName</dt>\n",
              "                <dd><code>sample_app</code></dd>\n",
              "            </dl>\n",
              "        </div>\n",
              "        "
            ]
          },
          "metadata": {},
          "execution_count": 3
        }
      ]
    },
    {
      "cell_type": "code",
      "source": [
        "import pyspark.sql.functions as f\n",
        "file_location1 = \"/content/Airline_data.csv\"\n",
        "file_location2 = \"/content/Airline_data.csv\"\n",
        "df1 = spark.read.format(\"csv\").option(\"header\", \"true\").option(\"inferSchema\", \"true\").load(file_location1)\n",
        "df2 = spark.read.format(\"csv\").option(\"header\", \"true\").option(\"inferSchema\", \"true\").load(file_location2)\n",
        "df1.show() "
      ],
      "metadata": {
        "colab": {
          "base_uri": "https://localhost:8080/"
        },
        "id": "pKBNMY5soWWw",
        "outputId": "c0742d7a-5962-4a6b-83e5-f70c6720bd34"
      },
      "execution_count": 4,
      "outputs": [
        {
          "output_type": "stream",
          "name": "stdout",
          "text": [
            "+----+-----+----------+---------+-------+----------+-------+----------+-------------+---------+-------+-----------------+--------------+-------+--------+--------+------+----+--------+------+-------+---------+----------------+--------+------------+------------+--------+-------------+-----------------+\n",
            "|Year|Month|DayofMonth|DayOfWeek|DepTime|CRSDepTime|ArrTime|CRSArrTime|UniqueCarrier|FlightNum|TailNum|ActualElapsedTime|CRSElapsedTime|AirTime|ArrDelay|DepDelay|Origin|Dest|Distance|TaxiIn|TaxiOut|Cancelled|CancellationCode|Diverted|CarrierDelay|WeatherDelay|NASDelay|SecurityDelay|LateAircraftDelay|\n",
            "+----+-----+----------+---------+-------+----------+-------+----------+-------------+---------+-------+-----------------+--------------+-------+--------+--------+------+----+--------+------+-------+---------+----------------+--------+------------+------------+--------+-------------+-----------------+\n",
            "|1989|    1|        23|        1|   1419|      1230|   1742|      1552|           UA|      183|     NA|              323|           322|     NA|     110|     109|   SFO| HNL|    2398|    NA|     NA|        0|              NA|       0|          NA|          NA|      NA|           NA|               NA|\n",
            "|1989|    1|        24|        2|   1255|      1230|   1612|      1552|           UA|      183|     NA|              317|           322|     NA|      20|      25|   SFO| HNL|    2398|    NA|     NA|        0|              NA|       0|          NA|          NA|      NA|           NA|               NA|\n",
            "|1989|    1|        25|        3|   1230|      1230|   1533|      1552|           UA|      183|     NA|              303|           322|     NA|     -19|       0|   SFO| HNL|    2398|    NA|     NA|        0|              NA|       0|          NA|          NA|      NA|           NA|               NA|\n",
            "|1989|    1|        26|        4|   1230|      1230|   1523|      1552|           UA|      183|     NA|              293|           322|     NA|     -29|       0|   SFO| HNL|    2398|    NA|     NA|        0|              NA|       0|          NA|          NA|      NA|           NA|               NA|\n",
            "|1989|    1|        27|        5|   1232|      1230|   1513|      1552|           UA|      183|     NA|              281|           322|     NA|     -39|       2|   SFO| HNL|    2398|    NA|     NA|        0|              NA|       0|          NA|          NA|      NA|           NA|               NA|\n",
            "|1989|    1|        28|        6|   1228|      1230|   1550|      1552|           UA|      183|     NA|              322|           322|     NA|      -2|      -2|   SFO| HNL|    2398|    NA|     NA|        0|              NA|       0|          NA|          NA|      NA|           NA|               NA|\n",
            "|1989|    1|        29|        7|   1639|      1230|   1942|      1552|           UA|      183|     NA|              303|           322|     NA|     230|     249|   SFO| HNL|    2398|    NA|     NA|        0|              NA|       0|          NA|          NA|      NA|           NA|               NA|\n",
            "|1989|    1|        30|        1|   1231|      1230|   1531|      1552|           UA|      183|     NA|              300|           322|     NA|     -21|       1|   SFO| HNL|    2398|    NA|     NA|        0|              NA|       0|          NA|          NA|      NA|           NA|               NA|\n",
            "|1989|    1|        31|        2|   1405|      1230|   1827|      1552|           UA|      183|     NA|              382|           322|     NA|     155|      95|   SFO| HNL|    2398|    NA|     NA|        0|              NA|       0|          NA|          NA|      NA|           NA|               NA|\n",
            "|1989|    1|         2|        1|   1057|      1045|   1537|      1554|           UA|      184|     NA|              160|           189|     NA|     -17|      12|   DEN| IAD|    1452|    NA|     NA|        0|              NA|       0|          NA|          NA|      NA|           NA|               NA|\n",
            "|1989|    1|         3|        2|   1117|      1045|   1607|      1554|           UA|      184|     NA|              170|           189|     NA|      13|      32|   DEN| IAD|    1452|    NA|     NA|        0|              NA|       0|          NA|          NA|      NA|           NA|               NA|\n",
            "|1989|    1|         4|        3|   1107|      1045|   1604|      1554|           UA|      184|     NA|              177|           189|     NA|      10|      22|   DEN| IAD|    1452|    NA|     NA|        0|              NA|       0|          NA|          NA|      NA|           NA|               NA|\n",
            "|1989|    1|         5|        4|   1119|      1045|   1612|      1554|           UA|      184|     NA|              173|           189|     NA|      18|      34|   DEN| IAD|    1452|    NA|     NA|        0|              NA|       0|          NA|          NA|      NA|           NA|               NA|\n",
            "|1989|    1|         6|        5|   1044|      1045|   1548|      1554|           UA|      184|     NA|              184|           189|     NA|      -6|      -1|   DEN| IAD|    1452|    NA|     NA|        0|              NA|       0|          NA|          NA|      NA|           NA|               NA|\n",
            "|1989|    1|         7|        6|   1100|      1045|   1559|      1554|           UA|      184|     NA|              179|           189|     NA|       5|      15|   DEN| IAD|    1452|    NA|     NA|        0|              NA|       0|          NA|          NA|      NA|           NA|               NA|\n",
            "|1989|    1|         8|        7|   1110|      1045|   1554|      1554|           UA|      184|     NA|              164|           189|     NA|       0|      25|   DEN| IAD|    1452|    NA|     NA|        0|              NA|       0|          NA|          NA|      NA|           NA|               NA|\n",
            "|1989|    1|         9|        1|   1044|      1045|   1535|      1554|           UA|      184|     NA|              171|           189|     NA|     -19|      -1|   DEN| IAD|    1452|    NA|     NA|        0|              NA|       0|          NA|          NA|      NA|           NA|               NA|\n",
            "|1989|    1|        10|        2|   1048|      1045|   1539|      1554|           UA|      184|     NA|              171|           189|     NA|     -15|       3|   DEN| IAD|    1452|    NA|     NA|        0|              NA|       0|          NA|          NA|      NA|           NA|               NA|\n",
            "|1989|    1|        11|        3|   1150|      1045|   1701|      1554|           UA|      184|     NA|              191|           189|     NA|      67|      65|   DEN| IAD|    1452|    NA|     NA|        0|              NA|       0|          NA|          NA|      NA|           NA|               NA|\n",
            "|1989|    1|        12|        4|   1048|      1045|   1549|      1554|           UA|      184|     NA|              181|           189|     NA|      -5|       3|   DEN| IAD|    1452|    NA|     NA|        0|              NA|       0|          NA|          NA|      NA|           NA|               NA|\n",
            "+----+-----+----------+---------+-------+----------+-------+----------+-------------+---------+-------+-----------------+--------------+-------+--------+--------+------+----+--------+------+-------+---------+----------------+--------+------------+------------+--------+-------------+-----------------+\n",
            "only showing top 20 rows\n",
            "\n"
          ]
        }
      ]
    },
    {
      "cell_type": "code",
      "source": [
        "# Preliminary analysis on the dataset are to count the number of rows, the schema of data\n",
        "df1.printSchema()"
      ],
      "metadata": {
        "colab": {
          "base_uri": "https://localhost:8080/"
        },
        "id": "_6VApCpdoWUX",
        "outputId": "abc2dad7-b019-48fb-c351-e14a4a50b6b9"
      },
      "execution_count": 5,
      "outputs": [
        {
          "output_type": "stream",
          "name": "stdout",
          "text": [
            "root\n",
            " |-- Year: integer (nullable = true)\n",
            " |-- Month: integer (nullable = true)\n",
            " |-- DayofMonth: integer (nullable = true)\n",
            " |-- DayOfWeek: integer (nullable = true)\n",
            " |-- DepTime: integer (nullable = true)\n",
            " |-- CRSDepTime: integer (nullable = true)\n",
            " |-- ArrTime: integer (nullable = true)\n",
            " |-- CRSArrTime: integer (nullable = true)\n",
            " |-- UniqueCarrier: string (nullable = true)\n",
            " |-- FlightNum: integer (nullable = true)\n",
            " |-- TailNum: string (nullable = true)\n",
            " |-- ActualElapsedTime: integer (nullable = true)\n",
            " |-- CRSElapsedTime: integer (nullable = true)\n",
            " |-- AirTime: string (nullable = true)\n",
            " |-- ArrDelay: integer (nullable = true)\n",
            " |-- DepDelay: integer (nullable = true)\n",
            " |-- Origin: string (nullable = true)\n",
            " |-- Dest: string (nullable = true)\n",
            " |-- Distance: integer (nullable = true)\n",
            " |-- TaxiIn: string (nullable = true)\n",
            " |-- TaxiOut: string (nullable = true)\n",
            " |-- Cancelled: integer (nullable = true)\n",
            " |-- CancellationCode: string (nullable = true)\n",
            " |-- Diverted: integer (nullable = true)\n",
            " |-- CarrierDelay: string (nullable = true)\n",
            " |-- WeatherDelay: string (nullable = true)\n",
            " |-- NASDelay: string (nullable = true)\n",
            " |-- SecurityDelay: string (nullable = true)\n",
            " |-- LateAircraftDelay: string (nullable = true)\n",
            "\n"
          ]
        }
      ]
    },
    {
      "cell_type": "code",
      "source": [
        "# Statistical description\n",
        "df1.describe().show()"
      ],
      "metadata": {
        "colab": {
          "base_uri": "https://localhost:8080/"
        },
        "id": "EmUOZ1KNoWSO",
        "outputId": "d35b1180-601f-4bdc-c84c-d6f0c7e61463"
      },
      "execution_count": 10,
      "outputs": [
        {
          "output_type": "stream",
          "name": "stdout",
          "text": [
            "+-------+------+-----+-----------------+-----------------+------------------+-----------------+------------------+------------------+-------------+-----------------+-------+------------------+------------------+-------+------------------+------------------+------+----+------------------+------+-------+---------+----------------+--------+------------+------------+--------+-------------+-----------------+\n",
            "|summary|  Year|Month|       DayofMonth|        DayOfWeek|           DepTime|       CRSDepTime|           ArrTime|        CRSArrTime|UniqueCarrier|        FlightNum|TailNum| ActualElapsedTime|    CRSElapsedTime|AirTime|          ArrDelay|          DepDelay|Origin|Dest|          Distance|TaxiIn|TaxiOut|Cancelled|CancellationCode|Diverted|CarrierDelay|WeatherDelay|NASDelay|SecurityDelay|LateAircraftDelay|\n",
            "+-------+------+-----+-----------------+-----------------+------------------+-----------------+------------------+------------------+-------------+-----------------+-------+------------------+------------------+-------+------------------+------------------+------+----+------------------+------+-------+---------+----------------+--------+------------+------------+--------+-------------+-----------------+\n",
            "|  count|   426|  426|              426|              426|               426|              426|               426|               426|          426|              426|    426|               426|               426|    426|               426|               426|   426| 426|               426|   426|    426|      426|             426|     426|         426|         426|     426|          426|              426|\n",
            "|   mean|1989.0|  1.0|             16.0|3.924882629107981|1373.2652582159624|1362.805164319249|1598.3004694835681| 1576.913145539906|         null|186.6056338028169|   null|238.55633802816902|237.58215962441315|   null|11.997652582159624|11.023474178403756|  null|null|1772.9037558685445|  null|   null|      0.0|            null|     0.0|        null|        null|    null|         null|             null|\n",
            "| stddev|   0.0|  0.0|8.989405528993888|2.099633718270294| 488.0888564856431|489.4697559091241|493.18761861255217|492.27226753061103|         null|2.799052982233268|   null| 111.9712898904665|112.02339697227269|   null| 32.44727841945462| 28.27852085566072|  null|null| 929.2076967268667|  null|   null|      0.0|            null|     0.0|        null|        null|    null|         null|             null|\n",
            "|    min|  1989|    1|                1|                1|                16|               20|               504|               515|           UA|              183|     NA|                33|                34|     NA|               -45|               -10|   DEN| DEN|               102|    NA|     NA|        0|              NA|       0|          NA|          NA|      NA|           NA|               NA|\n",
            "|    max|  1989|    1|               31|                7|              2253|             2230|              2356|              2247|           UA|              193|     NA|               404|               361|     NA|               233|               249|   SFO| SFO|              2556|    NA|     NA|        0|              NA|       0|          NA|          NA|      NA|           NA|               NA|\n",
            "+-------+------+-----+-----------------+-----------------+------------------+-----------------+------------------+------------------+-------------+-----------------+-------+------------------+------------------+-------+------------------+------------------+------+----+------------------+------+-------+---------+----------------+--------+------------+------------+--------+-------------+-----------------+\n",
            "\n"
          ]
        }
      ]
    },
    {
      "cell_type": "markdown",
      "source": [
        "# 1.) Show a sample of 5 records from dataset."
      ],
      "metadata": {
        "id": "c6hV9kRJwBb3"
      }
    },
    {
      "cell_type": "code",
      "source": [
        "# Read the csv File using pyspark dataFrame and please give 5 record please use limit for that\n",
        "file_location1 = \"/content/Airline_data.csv\"\n",
        "df1 = spark.read.format(\"csv\").option(\"header\", \"true\").option(\"inferSchema\", \"true\").load(file_location1)\n",
        "df1.limit(5).show()"
      ],
      "metadata": {
        "colab": {
          "base_uri": "https://localhost:8080/"
        },
        "id": "y4scQn8MoWQJ",
        "outputId": "3fd7182e-f99d-4def-e8cb-24d796728ab6"
      },
      "execution_count": 15,
      "outputs": [
        {
          "output_type": "stream",
          "name": "stdout",
          "text": [
            "+----+-----+----------+---------+-------+----------+-------+----------+-------------+---------+-------+-----------------+--------------+-------+--------+--------+------+----+--------+------+-------+---------+----------------+--------+------------+------------+--------+-------------+-----------------+\n",
            "|Year|Month|DayofMonth|DayOfWeek|DepTime|CRSDepTime|ArrTime|CRSArrTime|UniqueCarrier|FlightNum|TailNum|ActualElapsedTime|CRSElapsedTime|AirTime|ArrDelay|DepDelay|Origin|Dest|Distance|TaxiIn|TaxiOut|Cancelled|CancellationCode|Diverted|CarrierDelay|WeatherDelay|NASDelay|SecurityDelay|LateAircraftDelay|\n",
            "+----+-----+----------+---------+-------+----------+-------+----------+-------------+---------+-------+-----------------+--------------+-------+--------+--------+------+----+--------+------+-------+---------+----------------+--------+------------+------------+--------+-------------+-----------------+\n",
            "|1989|    1|        23|        1|   1419|      1230|   1742|      1552|           UA|      183|     NA|              323|           322|     NA|     110|     109|   SFO| HNL|    2398|    NA|     NA|        0|              NA|       0|          NA|          NA|      NA|           NA|               NA|\n",
            "|1989|    1|        24|        2|   1255|      1230|   1612|      1552|           UA|      183|     NA|              317|           322|     NA|      20|      25|   SFO| HNL|    2398|    NA|     NA|        0|              NA|       0|          NA|          NA|      NA|           NA|               NA|\n",
            "|1989|    1|        25|        3|   1230|      1230|   1533|      1552|           UA|      183|     NA|              303|           322|     NA|     -19|       0|   SFO| HNL|    2398|    NA|     NA|        0|              NA|       0|          NA|          NA|      NA|           NA|               NA|\n",
            "|1989|    1|        26|        4|   1230|      1230|   1523|      1552|           UA|      183|     NA|              293|           322|     NA|     -29|       0|   SFO| HNL|    2398|    NA|     NA|        0|              NA|       0|          NA|          NA|      NA|           NA|               NA|\n",
            "|1989|    1|        27|        5|   1232|      1230|   1513|      1552|           UA|      183|     NA|              281|           322|     NA|     -39|       2|   SFO| HNL|    2398|    NA|     NA|        0|              NA|       0|          NA|          NA|      NA|           NA|               NA|\n",
            "+----+-----+----------+---------+-------+----------+-------+----------+-------------+---------+-------+-----------------+--------------+-------+--------+--------+------+----+--------+------+-------+---------+----------------+--------+------------+------------+--------+-------------+-----------------+\n",
            "\n"
          ]
        }
      ]
    },
    {
      "cell_type": "markdown",
      "source": [
        "# 2.) Read the data with data types."
      ],
      "metadata": {
        "id": "SKPcreo_wh4S"
      }
    },
    {
      "cell_type": "code",
      "source": [
        "# the schema of the data with data types \n",
        "df1.printSchema()"
      ],
      "metadata": {
        "colab": {
          "base_uri": "https://localhost:8080/"
        },
        "id": "oy2Dd5o8Lh0I",
        "outputId": "7d9dbbae-80f3-4c59-a910-7223b0b961aa"
      },
      "execution_count": 11,
      "outputs": [
        {
          "output_type": "stream",
          "name": "stdout",
          "text": [
            "root\n",
            " |-- Year: integer (nullable = true)\n",
            " |-- Month: integer (nullable = true)\n",
            " |-- DayofMonth: integer (nullable = true)\n",
            " |-- DayOfWeek: integer (nullable = true)\n",
            " |-- DepTime: integer (nullable = true)\n",
            " |-- CRSDepTime: integer (nullable = true)\n",
            " |-- ArrTime: integer (nullable = true)\n",
            " |-- CRSArrTime: integer (nullable = true)\n",
            " |-- UniqueCarrier: string (nullable = true)\n",
            " |-- FlightNum: integer (nullable = true)\n",
            " |-- TailNum: string (nullable = true)\n",
            " |-- ActualElapsedTime: integer (nullable = true)\n",
            " |-- CRSElapsedTime: integer (nullable = true)\n",
            " |-- AirTime: string (nullable = true)\n",
            " |-- ArrDelay: integer (nullable = true)\n",
            " |-- DepDelay: integer (nullable = true)\n",
            " |-- Origin: string (nullable = true)\n",
            " |-- Dest: string (nullable = true)\n",
            " |-- Distance: integer (nullable = true)\n",
            " |-- TaxiIn: string (nullable = true)\n",
            " |-- TaxiOut: string (nullable = true)\n",
            " |-- Cancelled: integer (nullable = true)\n",
            " |-- CancellationCode: string (nullable = true)\n",
            " |-- Diverted: integer (nullable = true)\n",
            " |-- CarrierDelay: string (nullable = true)\n",
            " |-- WeatherDelay: string (nullable = true)\n",
            " |-- NASDelay: string (nullable = true)\n",
            " |-- SecurityDelay: string (nullable = true)\n",
            " |-- LateAircraftDelay: string (nullable = true)\n",
            "\n"
          ]
        }
      ]
    },
    {
      "cell_type": "code",
      "source": [
        "# optional answer\n",
        "data = df1.dtypes\n",
        "data"
      ],
      "metadata": {
        "id": "FPnua6RUoWMg",
        "colab": {
          "base_uri": "https://localhost:8080/"
        },
        "outputId": "f678339b-931d-48d4-de35-906e9c172a8a"
      },
      "execution_count": 12,
      "outputs": [
        {
          "output_type": "execute_result",
          "data": {
            "text/plain": [
              "[('Year', 'int'),\n",
              " ('Month', 'int'),\n",
              " ('DayofMonth', 'int'),\n",
              " ('DayOfWeek', 'int'),\n",
              " ('DepTime', 'int'),\n",
              " ('CRSDepTime', 'int'),\n",
              " ('ArrTime', 'int'),\n",
              " ('CRSArrTime', 'int'),\n",
              " ('UniqueCarrier', 'string'),\n",
              " ('FlightNum', 'int'),\n",
              " ('TailNum', 'string'),\n",
              " ('ActualElapsedTime', 'int'),\n",
              " ('CRSElapsedTime', 'int'),\n",
              " ('AirTime', 'string'),\n",
              " ('ArrDelay', 'int'),\n",
              " ('DepDelay', 'int'),\n",
              " ('Origin', 'string'),\n",
              " ('Dest', 'string'),\n",
              " ('Distance', 'int'),\n",
              " ('TaxiIn', 'string'),\n",
              " ('TaxiOut', 'string'),\n",
              " ('Cancelled', 'int'),\n",
              " ('CancellationCode', 'string'),\n",
              " ('Diverted', 'int'),\n",
              " ('CarrierDelay', 'string'),\n",
              " ('WeatherDelay', 'string'),\n",
              " ('NASDelay', 'string'),\n",
              " ('SecurityDelay', 'string'),\n",
              " ('LateAircraftDelay', 'string')]"
            ]
          },
          "metadata": {},
          "execution_count": 12
        }
      ]
    },
    {
      "cell_type": "markdown",
      "source": [
        "# 3.) Make a new column MonthStr, Which has months in form of 01, 02, 03, ..., 12.\n",
        "\n",
        "please use udf , and ur udf should be very simple and straight forward\n",
        "\n",
        "ur udf input will be Month Column and the new Column u have to return as name \"MonthStr\"\n",
        "\n",
        "which will have the data in the form of 01, 02, 03, ..., 12"
      ],
      "metadata": {
        "id": "Ql7OspYtwmRu"
      }
    },
    {
      "cell_type": "code",
      "source": [
        "MonthStr = '01','02','03','04','05','06','07','08','09','10','11','12'\n",
        "def new_column(MonthStr):\n",
        "  get_new_column = MonthStr\n",
        "  return get_new_column\n",
        "ans = new_column(MonthStr)\n",
        "print(ans)"
      ],
      "metadata": {
        "colab": {
          "base_uri": "https://localhost:8080/"
        },
        "id": "wSQlO59h1rkh",
        "outputId": "2dd3364d-8583-408c-b3c1-71db947b62e7"
      },
      "execution_count": 19,
      "outputs": [
        {
          "output_type": "stream",
          "name": "stdout",
          "text": [
            "('01', '02', '03', '04', '05', '06', '07', '08', '09', '10', '11', '12')\n"
          ]
        }
      ]
    },
    {
      "cell_type": "code",
      "source": [
        "from pyspark.sql.functions import udf,col\n",
        "from pyspark.sql.types import StringType\n",
        "from pyspark.sql.types import IntegerType\n",
        "a = udf(new_column)\n",
        "df3 = df1.withColumn(\"MonthStr\",a(col('Month')))\n",
        "df3.show()"
      ],
      "metadata": {
        "id": "fS_8L6iloWFc",
        "colab": {
          "base_uri": "https://localhost:8080/"
        },
        "outputId": "6a2339db-0698-42c8-c864-47ed0a87cef8"
      },
      "execution_count": 20,
      "outputs": [
        {
          "output_type": "stream",
          "name": "stdout",
          "text": [
            "+----+-----+----------+---------+-------+----------+-------+----------+-------------+---------+-------+-----------------+--------------+-------+--------+--------+------+----+--------+------+-------+---------+----------------+--------+------------+------------+--------+-------------+-----------------+--------+\n",
            "|Year|Month|DayofMonth|DayOfWeek|DepTime|CRSDepTime|ArrTime|CRSArrTime|UniqueCarrier|FlightNum|TailNum|ActualElapsedTime|CRSElapsedTime|AirTime|ArrDelay|DepDelay|Origin|Dest|Distance|TaxiIn|TaxiOut|Cancelled|CancellationCode|Diverted|CarrierDelay|WeatherDelay|NASDelay|SecurityDelay|LateAircraftDelay|MonthStr|\n",
            "+----+-----+----------+---------+-------+----------+-------+----------+-------------+---------+-------+-----------------+--------------+-------+--------+--------+------+----+--------+------+-------+---------+----------------+--------+------------+------------+--------+-------------+-----------------+--------+\n",
            "|1989|    1|        23|        1|   1419|      1230|   1742|      1552|           UA|      183|     NA|              323|           322|     NA|     110|     109|   SFO| HNL|    2398|    NA|     NA|        0|              NA|       0|          NA|          NA|      NA|           NA|               NA|       1|\n",
            "|1989|    1|        24|        2|   1255|      1230|   1612|      1552|           UA|      183|     NA|              317|           322|     NA|      20|      25|   SFO| HNL|    2398|    NA|     NA|        0|              NA|       0|          NA|          NA|      NA|           NA|               NA|       1|\n",
            "|1989|    1|        25|        3|   1230|      1230|   1533|      1552|           UA|      183|     NA|              303|           322|     NA|     -19|       0|   SFO| HNL|    2398|    NA|     NA|        0|              NA|       0|          NA|          NA|      NA|           NA|               NA|       1|\n",
            "|1989|    1|        26|        4|   1230|      1230|   1523|      1552|           UA|      183|     NA|              293|           322|     NA|     -29|       0|   SFO| HNL|    2398|    NA|     NA|        0|              NA|       0|          NA|          NA|      NA|           NA|               NA|       1|\n",
            "|1989|    1|        27|        5|   1232|      1230|   1513|      1552|           UA|      183|     NA|              281|           322|     NA|     -39|       2|   SFO| HNL|    2398|    NA|     NA|        0|              NA|       0|          NA|          NA|      NA|           NA|               NA|       1|\n",
            "|1989|    1|        28|        6|   1228|      1230|   1550|      1552|           UA|      183|     NA|              322|           322|     NA|      -2|      -2|   SFO| HNL|    2398|    NA|     NA|        0|              NA|       0|          NA|          NA|      NA|           NA|               NA|       1|\n",
            "|1989|    1|        29|        7|   1639|      1230|   1942|      1552|           UA|      183|     NA|              303|           322|     NA|     230|     249|   SFO| HNL|    2398|    NA|     NA|        0|              NA|       0|          NA|          NA|      NA|           NA|               NA|       1|\n",
            "|1989|    1|        30|        1|   1231|      1230|   1531|      1552|           UA|      183|     NA|              300|           322|     NA|     -21|       1|   SFO| HNL|    2398|    NA|     NA|        0|              NA|       0|          NA|          NA|      NA|           NA|               NA|       1|\n",
            "|1989|    1|        31|        2|   1405|      1230|   1827|      1552|           UA|      183|     NA|              382|           322|     NA|     155|      95|   SFO| HNL|    2398|    NA|     NA|        0|              NA|       0|          NA|          NA|      NA|           NA|               NA|       1|\n",
            "|1989|    1|         2|        1|   1057|      1045|   1537|      1554|           UA|      184|     NA|              160|           189|     NA|     -17|      12|   DEN| IAD|    1452|    NA|     NA|        0|              NA|       0|          NA|          NA|      NA|           NA|               NA|       1|\n",
            "|1989|    1|         3|        2|   1117|      1045|   1607|      1554|           UA|      184|     NA|              170|           189|     NA|      13|      32|   DEN| IAD|    1452|    NA|     NA|        0|              NA|       0|          NA|          NA|      NA|           NA|               NA|       1|\n",
            "|1989|    1|         4|        3|   1107|      1045|   1604|      1554|           UA|      184|     NA|              177|           189|     NA|      10|      22|   DEN| IAD|    1452|    NA|     NA|        0|              NA|       0|          NA|          NA|      NA|           NA|               NA|       1|\n",
            "|1989|    1|         5|        4|   1119|      1045|   1612|      1554|           UA|      184|     NA|              173|           189|     NA|      18|      34|   DEN| IAD|    1452|    NA|     NA|        0|              NA|       0|          NA|          NA|      NA|           NA|               NA|       1|\n",
            "|1989|    1|         6|        5|   1044|      1045|   1548|      1554|           UA|      184|     NA|              184|           189|     NA|      -6|      -1|   DEN| IAD|    1452|    NA|     NA|        0|              NA|       0|          NA|          NA|      NA|           NA|               NA|       1|\n",
            "|1989|    1|         7|        6|   1100|      1045|   1559|      1554|           UA|      184|     NA|              179|           189|     NA|       5|      15|   DEN| IAD|    1452|    NA|     NA|        0|              NA|       0|          NA|          NA|      NA|           NA|               NA|       1|\n",
            "|1989|    1|         8|        7|   1110|      1045|   1554|      1554|           UA|      184|     NA|              164|           189|     NA|       0|      25|   DEN| IAD|    1452|    NA|     NA|        0|              NA|       0|          NA|          NA|      NA|           NA|               NA|       1|\n",
            "|1989|    1|         9|        1|   1044|      1045|   1535|      1554|           UA|      184|     NA|              171|           189|     NA|     -19|      -1|   DEN| IAD|    1452|    NA|     NA|        0|              NA|       0|          NA|          NA|      NA|           NA|               NA|       1|\n",
            "|1989|    1|        10|        2|   1048|      1045|   1539|      1554|           UA|      184|     NA|              171|           189|     NA|     -15|       3|   DEN| IAD|    1452|    NA|     NA|        0|              NA|       0|          NA|          NA|      NA|           NA|               NA|       1|\n",
            "|1989|    1|        11|        3|   1150|      1045|   1701|      1554|           UA|      184|     NA|              191|           189|     NA|      67|      65|   DEN| IAD|    1452|    NA|     NA|        0|              NA|       0|          NA|          NA|      NA|           NA|               NA|       1|\n",
            "|1989|    1|        12|        4|   1048|      1045|   1549|      1554|           UA|      184|     NA|              181|           189|     NA|      -5|       3|   DEN| IAD|    1452|    NA|     NA|        0|              NA|       0|          NA|          NA|      NA|           NA|               NA|       1|\n",
            "+----+-----+----------+---------+-------+----------+-------+----------+-------------+---------+-------+-----------------+--------------+-------+--------+--------+------+----+--------+------+-------+---------+----------------+--------+------------+------------+--------+-------------+-----------------+--------+\n",
            "only showing top 20 rows\n",
            "\n"
          ]
        }
      ]
    },
    {
      "cell_type": "code",
      "source": [
        "df3.printSchema()"
      ],
      "metadata": {
        "colab": {
          "base_uri": "https://localhost:8080/"
        },
        "id": "OOzcQVrf_LTf",
        "outputId": "a2539047-2aff-4a8c-d3e4-10913d7af3d6"
      },
      "execution_count": null,
      "outputs": [
        {
          "output_type": "stream",
          "name": "stdout",
          "text": [
            "root\n",
            " |-- Year: integer (nullable = true)\n",
            " |-- Month: integer (nullable = true)\n",
            " |-- DayofMonth: integer (nullable = true)\n",
            " |-- DayOfWeek: integer (nullable = true)\n",
            " |-- DepTime: integer (nullable = true)\n",
            " |-- CRSDepTime: integer (nullable = true)\n",
            " |-- ArrTime: integer (nullable = true)\n",
            " |-- CRSArrTime: integer (nullable = true)\n",
            " |-- UniqueCarrier: string (nullable = true)\n",
            " |-- FlightNum: integer (nullable = true)\n",
            " |-- TailNum: string (nullable = true)\n",
            " |-- ActualElapsedTime: integer (nullable = true)\n",
            " |-- CRSElapsedTime: integer (nullable = true)\n",
            " |-- AirTime: string (nullable = true)\n",
            " |-- ArrDelay: integer (nullable = true)\n",
            " |-- DepDelay: integer (nullable = true)\n",
            " |-- Origin: string (nullable = true)\n",
            " |-- Dest: string (nullable = true)\n",
            " |-- Distance: integer (nullable = true)\n",
            " |-- TaxiIn: string (nullable = true)\n",
            " |-- TaxiOut: string (nullable = true)\n",
            " |-- Cancelled: integer (nullable = true)\n",
            " |-- CancellationCode: string (nullable = true)\n",
            " |-- Diverted: integer (nullable = true)\n",
            " |-- CarrierDelay: string (nullable = true)\n",
            " |-- WeatherDelay: string (nullable = true)\n",
            " |-- NASDelay: string (nullable = true)\n",
            " |-- SecurityDelay: string (nullable = true)\n",
            " |-- LateAircraftDelay: string (nullable = true)\n",
            " |-- MonthStr: string (nullable = true)\n",
            "\n"
          ]
        }
      ]
    },
    {
      "cell_type": "markdown",
      "source": [
        "# 4.) Find the # of flights each airline made. :=> UniqueCarrier"
      ],
      "metadata": {
        "id": "9QWe1xDTtxhK"
      }
    },
    {
      "cell_type": "code",
      "source": [
        "# here I selected \"UniqueCarrier\" column and get the distinct UniqueCarriername and printed the Count as well\n",
        "flights_each_airline_made = df1.select (\"UniqueCarrier\").distinct()\n",
        "flights_each_airline_made.count()"
      ],
      "metadata": {
        "id": "BxQOR-LFoVyf",
        "colab": {
          "base_uri": "https://localhost:8080/"
        },
        "outputId": "9f8aaab0-3ff5-4923-9437-79094cac473f"
      },
      "execution_count": 32,
      "outputs": [
        {
          "output_type": "execute_result",
          "data": {
            "text/plain": [
              "1"
            ]
          },
          "metadata": {},
          "execution_count": 32
        }
      ]
    },
    {
      "cell_type": "code",
      "source": [
        "# here I selected \"UniqueCarrier\" column and get the without distinct UniqueCarriername and printed the Count as well\n",
        "flights_each_airline_made = df1.select (\"UniqueCarrier\")\n",
        "flights_each_airline_made.count()"
      ],
      "metadata": {
        "colab": {
          "base_uri": "https://localhost:8080/"
        },
        "id": "ToIb0c-QmhVv",
        "outputId": "ee2e1073-30c1-499e-ee6b-94f50cbacf4d"
      },
      "execution_count": 21,
      "outputs": [
        {
          "output_type": "execute_result",
          "data": {
            "text/plain": [
              "426"
            ]
          },
          "metadata": {},
          "execution_count": 21
        }
      ]
    },
    {
      "cell_type": "markdown",
      "source": [
        "# 5.) Find the mean Arrival Delay per origination airport. :=> group by orign and avg by arrival delay"
      ],
      "metadata": {
        "id": "5f0EJvD8vHvr"
      }
    },
    {
      "cell_type": "code",
      "source": [
        "# here I have do a group by based upon \"Origin\" Column and then do the avg for \"ArrDelay\"\n",
        "mean_arrival_delay = df1.groupBy(\"Origin\").avg(\"ArrDelay\")\n",
        "mean_arrival_delay.show()"
      ],
      "metadata": {
        "colab": {
          "base_uri": "https://localhost:8080/"
        },
        "id": "UitQlc8BtLT8",
        "outputId": "40a967dc-0109-4bb7-d91b-17480a825249"
      },
      "execution_count": null,
      "outputs": [
        {
          "output_type": "stream",
          "name": "stdout",
          "text": [
            "+------+-------------------+\n",
            "|Origin|      avg(ArrDelay)|\n",
            "+------+-------------------+\n",
            "|   LIH|0.16666666666666666|\n",
            "|   HNL|  14.21774193548387|\n",
            "|   EWR|               9.25|\n",
            "|   DEN| 20.166666666666668|\n",
            "|   IAD| 12.966666666666667|\n",
            "|   SFO| 11.215384615384615|\n",
            "|   PHL|  6.827586206896552|\n",
            "|   OGG|  16.24137931034483|\n",
            "+------+-------------------+\n",
            "\n"
          ]
        }
      ]
    },
    {
      "cell_type": "markdown",
      "source": [
        "# 6.) What is the average departure delay from each airport? :=> group by orign and avg by departure delay"
      ],
      "metadata": {
        "id": "PThqol8Cv0pH"
      }
    },
    {
      "cell_type": "code",
      "source": [
        "# here I have do a group by based upon \"Origin\" Column and then do the avg for \"DepDelay\"\n",
        "avg_departure_delay = df1.groupBy(\"Origin\").avg(\"DepDelay\")\n",
        "avg_departure_delay.show()"
      ],
      "metadata": {
        "colab": {
          "base_uri": "https://localhost:8080/"
        },
        "id": "wco9tNldtK_C",
        "outputId": "a9b1ef2f-7f5e-4dec-8973-c96cd6117948"
      },
      "execution_count": null,
      "outputs": [
        {
          "output_type": "stream",
          "name": "stdout",
          "text": [
            "+------+-------------------+\n",
            "|Origin|      avg(DepDelay)|\n",
            "+------+-------------------+\n",
            "|   LIH|-3.7666666666666666|\n",
            "|   HNL|  3.217741935483871|\n",
            "|   EWR|  4.958333333333333|\n",
            "|   DEN|               27.6|\n",
            "|   IAD|                8.9|\n",
            "|   SFO| 19.646153846153847|\n",
            "|   PHL| 16.137931034482758|\n",
            "|   OGG|                6.0|\n",
            "+------+-------------------+\n",
            "\n"
          ]
        }
      ]
    }
  ]
}